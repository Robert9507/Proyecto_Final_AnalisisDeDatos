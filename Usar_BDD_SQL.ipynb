{
 "cells": [
  {
   "cell_type": "code",
   "execution_count": null,
   "id": "0c5635d6",
   "metadata": {},
   "outputs": [],
   "source": []
  },
  {
   "cell_type": "markdown",
   "id": "16204154",
   "metadata": {},
   "source": [
    "## SQLite - AppBrain"
   ]
  },
  {
   "cell_type": "markdown",
   "id": "6a28e4f6",
   "metadata": {},
   "source": [
    "#### Crear la base de datos y tabla"
   ]
  },
  {
   "cell_type": "code",
   "execution_count": 55,
   "id": "7ce43309",
   "metadata": {},
   "outputs": [],
   "source": [
    "import sqlite3\n",
    "\n",
    "# Crear una nueva base de datos o conectar a una existente\n",
    "conn = sqlite3.connect('AppBrain.db')\n",
    "\n",
    "# Crear una tabla llamada 'mi_tabla' con las columnas 'App_2', 'Category', 'Suma_de_Rank', 'Installs' y 'Suma_de_Rating'\n",
    "conn.execute('CREATE TABLE apps_AppBrain (ID INTEGER, App_2 TEXT, Category TEXT, Suma_de_Rank INTEGER, Installs INTEGER, Suma_de_Rating INTEGER)')\n",
    "\n",
    "# Guardar los cambios y cerrar la conexión\n",
    "conn.commit()\n",
    "conn.close()"
   ]
  },
  {
   "cell_type": "markdown",
   "id": "0f53988b",
   "metadata": {},
   "source": [
    "#### Importar el csv a SQLite"
   ]
  },
  {
   "cell_type": "code",
   "execution_count": 56,
   "id": "b26a9d37",
   "metadata": {},
   "outputs": [],
   "source": [
    "import csv\n",
    "import sqlite3\n",
    "\n",
    "# Conectar a la base de datos\n",
    "conn = sqlite3.connect('AppBrain.db')\n",
    "c = conn.cursor()\n",
    "\n",
    "# Abrir el archivo CSV y leer los datos\n",
    "with open('AppBrain_SQL.csv', 'r', encoding='utf-8') as archivo_csv:\n",
    "    lector_csv = csv.reader(archivo_csv)\n",
    "    next(lector_csv)  # Saltar la primera fila, que contiene los encabezados de columna\n",
    "    # Insertar cada fila en la tabla\n",
    "    for fila in lector_csv:\n",
    "        c.execute('INSERT INTO apps_AppBrain (ID, App_2, Category, Suma_de_Rank, Installs, Suma_de_Rating) VALUES (?, ?, ?, ?, ?, ?)', fila)\n",
    "\n",
    "# Guardar los cambios y cerrar la conexión\n",
    "conn.commit()\n",
    "conn.close()"
   ]
  },
  {
   "cell_type": "markdown",
   "id": "df16f79b",
   "metadata": {},
   "source": [
    "## MySQL - Kaggle"
   ]
  },
  {
   "cell_type": "markdown",
   "id": "710d9be0",
   "metadata": {},
   "source": [
    "#### Crear base de datos"
   ]
  },
  {
   "cell_type": "code",
   "execution_count": 51,
   "id": "9d3389ff",
   "metadata": {},
   "outputs": [],
   "source": [
    "import pymysql\n",
    "from sqlalchemy import create_engine\n",
    "\n",
    "def conexion_bdd(usuario, servidor, puerto):\n",
    "    return pymysql.connect(user=usuario, host=servidor, port=puerto)\n",
    "\n",
    "def conexion_MySQL():\n",
    "    try: \n",
    "        usuario = input('Ingrese el usuario: ') # root\n",
    "        servidor = input('Ingrese el host: ') # 127.0.0.1 \n",
    "        puerto = int(input('Ingrese el puerto: ')) # 3306\n",
    "        conexion = conexion_bdd(usuario, servidor, puerto)\n",
    "        print(\"\\nConexion exitosa!\\n\")\n",
    "        \n",
    "    except Exception as e:\n",
    "        print(f\"\\nHa ocurrido un error en la conexion: {e}\")\n",
    "        \n",
    "    return conexion\n",
    "        \n",
    "def crear_bdd(conexion, nueva_bdd):\n",
    "    try: \n",
    "        cursor = conexion.cursor()  \n",
    "        insertar_consulta = f\"CREATE DATABASE {nueva_bdd};\"\n",
    "        cursor.execute(insertar_consulta)\n",
    "        print(f\"\\nLa Base de datos {nueva_bdd} se creo correctamente.\")\n",
    "    \n",
    "    except Exception as e:\n",
    "        print(f'Ha ocurrido un error: {e}')"
   ]
  },
  {
   "cell_type": "code",
   "execution_count": 52,
   "id": "88bfdd2c",
   "metadata": {},
   "outputs": [
    {
     "name": "stdout",
     "output_type": "stream",
     "text": [
      "Ingrese el usuario: root\n",
      "Ingrese el host: 127.0.0.1\n",
      "Ingrese el puerto: 3306\n",
      "\n",
      "Conexion exitosa!\n",
      "\n",
      "Ingrese el nombre de la nueva base de datos: kaggle\n",
      "\n",
      "La Base de datos kaggle se creo correctamente.\n"
     ]
    }
   ],
   "source": [
    "conexion = conexion_MySQL()\n",
    "nueva_bdd = input('Ingrese el nombre de la nueva base de datos: ')\n",
    "crear_bdd(conexion, nueva_bdd)"
   ]
  },
  {
   "cell_type": "markdown",
   "id": "f2b72c56",
   "metadata": {},
   "source": [
    "#### Crear tabla "
   ]
  },
  {
   "cell_type": "code",
   "execution_count": 53,
   "id": "456da4e1",
   "metadata": {},
   "outputs": [
    {
     "name": "stdout",
     "output_type": "stream",
     "text": [
      "La tabla fue creada con exito\n"
     ]
    }
   ],
   "source": [
    "import pymysql\n",
    "\n",
    "# conexión a la BDD\n",
    "conexion = pymysql.connect(user='root', host='127.0.0.1', port=3306, database='kaggle')\n",
    "cursor = conexion.cursor()\n",
    "\n",
    "# Crear una tabla\n",
    "try: \n",
    "    crear_tabla = '''CREATE TABLE apps_Kaggle (\n",
    "                                App VARCHAR(20), \n",
    "                                Category VARCHAR(20), \n",
    "                                Rating DECIMAL(3), \n",
    "                                Reviews NUMERIC(15), \n",
    "                                Size VARCHAR(20), \n",
    "                                Installs NUMERIC(15), \n",
    "                                Type VARCHAR(20), \n",
    "                                Content_Rating VARCHAR(20)\n",
    "                            );'''\n",
    "    cursor.execute(crear_tabla)\n",
    "    print(\"La tabla fue creada con exito\")\n",
    "    \n",
    "except pymysql.OperationalError:\n",
    "    print(\"Conflicto en crear la tabla:\")\n",
    "    print(\"La tabla ya fue creada.\")\n",
    "    \n",
    "# Confirmar los cambios\n",
    "conexion.commit()\n",
    "\n",
    "# Cerrar la conexión\n",
    "conexion.close()"
   ]
  },
  {
   "cell_type": "markdown",
   "id": "5a3fcb1b",
   "metadata": {},
   "source": [
    "#### Importar el csv a MySQL"
   ]
  },
  {
   "cell_type": "code",
   "execution_count": 54,
   "id": "c317eb2a",
   "metadata": {},
   "outputs": [],
   "source": [
    "import pandas as pd\n",
    "import mysql.connector\n",
    "\n",
    "# establecer la conexión con la base de datos\n",
    "conexion = mysql.connector.connect(\n",
    "    host=\"127.0.0.1\",\n",
    "    user=\"root\",\n",
    "    port=\"3306\",\n",
    "    database=\"kaggle\"\n",
    ")\n",
    "\n",
    "# leer el archivo CSV con pandas\n",
    "datos = pd.read_csv(\"Kaggle_SQL.csv\")\n",
    "\n",
    "# crear un cursor para realizar operaciones en la base de datos\n",
    "cursor = conexion.cursor()\n",
    "\n",
    "# iterar sobre cada fila del archivo CSV y cargar los datos en la tabla\n",
    "for i, fila in datos.iterrows():\n",
    "    cursor.execute(\n",
    "        \"INSERT INTO apps_Kaggle (App, Category, Rating, Reviews, Size, Installs, Type, Content_Rating) VALUES (%s, %s, %s, %s, %s, %s, %s, %s)\",\n",
    "        (fila['App'], fila['Category'], fila['Rating'], fila['Reviews'], fila['Size'], fila['Installs'], fila['Type'], fila['Content_Rating'])\n",
    "    )\n",
    "\n",
    "# confirmar los cambios en la base de datos\n",
    "conexion.commit()\n",
    "\n",
    "# cerrar la conexión\n",
    "conexion.close()"
   ]
  },
  {
   "cell_type": "code",
   "execution_count": null,
   "id": "0a8fc07f",
   "metadata": {},
   "outputs": [],
   "source": [
    "Num NUMERIC(4),\n",
    "App VARCHAR(40), \n",
    "Category VARCHAR(40), \n",
    "Rating DECIMAL(3), \n",
    "Reviews NUMERIC(15), \n",
    "size VARCHAR(40), \n",
    "Installs NUMERIC(15), \n",
    "Type VARCHAR(30), \n",
    "Content_Rating VARCHAR(30)\n",
    "\n",
    "Num NUMERIC(4), App VARCHAR(40), Category VARCHAR(40), Rating DECIMAL(3), Reviews NUMERIC(15), size VARCHAR(40), Installs NUMERIC(15), Type VARCHAR(30), Content_Rating VARCHAR(30)"
   ]
  }
 ],
 "metadata": {
  "kernelspec": {
   "display_name": "Python 3 (ipykernel)",
   "language": "python",
   "name": "python3"
  },
  "language_info": {
   "codemirror_mode": {
    "name": "ipython",
    "version": 3
   },
   "file_extension": ".py",
   "mimetype": "text/x-python",
   "name": "python",
   "nbconvert_exporter": "python",
   "pygments_lexer": "ipython3",
   "version": "3.10.5"
  }
 },
 "nbformat": 4,
 "nbformat_minor": 5
}
